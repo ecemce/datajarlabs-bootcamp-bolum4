{
 "cells": [
  {
   "cell_type": "markdown",
   "metadata": {},
   "source": [
    "## 1) Rank değişkenini kategorik olarak değerlendirmenin avantaj ve dezavantajlarını göz önünde bulundurun. "
   ]
  },
  {
   "cell_type": "markdown",
   "metadata": {},
   "source": [
    "### Rank değerinin kategorik olarak tanımlanması şu açıdan doğru;Elimizdeki veri kümemizde ne kadar çok değerimiz varsa o kadar farklı dereceleri olacaktır doğal olarak ve bunu belirli yani sınırlı bir şekilde belirterek yapmamız bize daha kolay yorumlama ve kıyaslama özelliği sunar.Dezavantaj olarak ise; eğer belirte olarak kullanılan değerler sayısal olarak yetersizce örneğin 3 veya 5 , bu bize bazı veri kümelerinde doğru kıyaslama yapma özelliği sunamaz . Dolayısıyla veri kümemizi doğru bir şekilde tanıyıp belirli kategorik değişkenlerle derece yapmak daha doğru oalcaktır.\n"
   ]
  },
  {
   "cell_type": "markdown",
   "metadata": {},
   "source": [
    "## 2)Aşağıdaki değişkenlerin türlerini belirleyin:\n",
    "### Yaş\n",
    "### Maaş\n",
    "### Gelir\n",
    "### Müşteri türü\n",
    "### Hisse senedi fiyatı"
   ]
  },
  {
   "cell_type": "markdown",
   "metadata": {},
   "source": [
    "## yaş:kategorik değişken\n",
    "## maaş:Sürekli değişken\n",
    "## gelir:Sürekli değişken\n",
    "## müşteri türü:Kategorik değişken\n",
    "## hisse senedi fiyatı:sürekli değişken"
   ]
  },
  {
   "cell_type": "code",
   "execution_count": null,
   "metadata": {},
   "outputs": [],
   "source": []
  }
 ],
 "metadata": {
  "kernelspec": {
   "display_name": "Python 3",
   "language": "python",
   "name": "python3"
  },
  "language_info": {
   "codemirror_mode": {
    "name": "ipython",
    "version": 3
   },
   "file_extension": ".py",
   "mimetype": "text/x-python",
   "name": "python",
   "nbconvert_exporter": "python",
   "pygments_lexer": "ipython3",
   "version": "3.7.1"
  }
 },
 "nbformat": 4,
 "nbformat_minor": 2
}
